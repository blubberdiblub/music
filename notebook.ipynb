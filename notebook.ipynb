{
 "cells": [
  {
   "cell_type": "code",
   "execution_count": 1,
   "metadata": {},
   "outputs": [],
   "source": [
    "from __future__ import annotations\n",
    "\n",
    "import numpy as np\n",
    "import plotly\n",
    "import plotly.graph_objs as go\n",
    "\n",
    "from fractions import Fraction\n",
    "from math import ceil, floor, isclose\n",
    "from numbers import Rational\n",
    "\n",
    "from typing import TYPE_CHECKING\n",
    "if TYPE_CHECKING:\n",
    "    from collections.abc import Sequence\n",
    "    from numbers import Real\n",
    "    from typing import Literal"
   ]
  },
  {
   "cell_type": "code",
   "execution_count": 2,
   "metadata": {},
   "outputs": [],
   "source": [
    "FREQ = 48000"
   ]
  },
  {
   "cell_type": "code",
   "execution_count": 3,
   "metadata": {},
   "outputs": [],
   "source": [
    "\n",
    "def silence(sample_duration: Real) -> np.ndarray:\n",
    "\n",
    "    return np.zeros(round(sample_duration * FREQ), dtype=np.float32)"
   ]
  },
  {
   "cell_type": "code",
   "execution_count": 4,
   "metadata": {},
   "outputs": [],
   "source": [
    "def sinewave(sample_duration: Real, frequency: Real) -> np.ndarray:\n",
    "\n",
    "    return np.sin(np.linspace(0.0, 2 * np.pi * sample_duration * frequency, num = round(sample_duration * FREQ), endpoint=False, dtype=np.float32))"
   ]
  },
  {
   "cell_type": "code",
   "execution_count": 5,
   "metadata": {},
   "outputs": [],
   "source": [
    "def schedule(sample_duration: Real, sched: Sequence[tuple[Literal['ramp', 'lin', 'linear'], Real, Real]], start_level: Real = 0) -> np.ndarray:\n",
    "\n",
    "    result = np.empty(round(sample_duration * FREQ), dtype=np.float32)\n",
    "\n",
    "    t1, left, i1 = 0, 0, 0\n",
    "    level = start_level\n",
    "    for typ, t2, new_level in sched:\n",
    "        if i1 >= len(result):\n",
    "            break\n",
    "\n",
    "        right = t2 * FREQ\n",
    "\n",
    "        if t2 == t1 or not isinstance(t1, Rational) and not isinstance(t2, Rational) and abs(t2 - t1) < 0.0005:\n",
    "            level = new_level\n",
    "            left = right\n",
    "            continue\n",
    "\n",
    "        assert t2 > t1\n",
    "\n",
    "        i2 = min(ceil(right), len(result))\n",
    "        if i2 <= i1:\n",
    "            level = new_level\n",
    "            left, t1 = right, t2\n",
    "            continue\n",
    "\n",
    "        match typ:\n",
    "            case 'ramp' | 'lin' | 'linear':\n",
    "                result[i1:i2] = np.linspace(\n",
    "                    (i1 - left) / (right - left) * (new_level - level) + level,\n",
    "                    (i2 - left) / (right - left) * (new_level - level) + level,\n",
    "                    num=i2 - i1, endpoint=False, dtype=np.float32\n",
    "                )\n",
    "            case _:\n",
    "                raise NotImplementedError(f\"Unknown curve type {typ!r}\")\n",
    "\n",
    "        level = new_level\n",
    "        left, t1, i1 = right, t2, i2\n",
    "\n",
    "    if i1 < len(result):\n",
    "        result[i1:] = new_level\n",
    "\n",
    "    return result"
   ]
  },
  {
   "cell_type": "code",
   "execution_count": 6,
   "metadata": {},
   "outputs": [],
   "source": [
    "def envelope(sample_duration: Real, on_duration: Real = 0.2, attack_time: Real = 0.05, decay_time: Real = 0.4, sustain_level: Real = 0.5, release_time: Real = 0.4) -> np.ndarray:\n",
    "\n",
    "    if on_duration <= 0:\n",
    "        return silence(sample_duration)\n",
    "\n",
    "    if on_duration <= attack_time:\n",
    "        return schedule(sample_duration, [\n",
    "            ('linear', on_duration, last_level := on_duration / attack_time),\n",
    "            ('linear', on_duration + release_time * (last_level / sustain_level), 0),\n",
    "        ])\n",
    "\n",
    "    t_sustain = attack_time + decay_time\n",
    "    if on_duration <= t_sustain:\n",
    "        return schedule(sample_duration, [\n",
    "            ('linear', attack_time, 1),\n",
    "            ('linear', on_duration, last_level := 1 - (1 - sustain_level) * (on_duration - attack_time) / decay_time),\n",
    "            ('linear', on_duration + release_time * (last_level / sustain_level), 0),\n",
    "        ])\n",
    "\n",
    "    return schedule(sample_duration, [\n",
    "        ('linear', attack_time, 1),\n",
    "        ('linear', t_sustain, sustain_level),\n",
    "        ('linear', on_duration, sustain_level),\n",
    "        ('linear', on_duration + release_time, 0),\n",
    "    ])"
   ]
  },
  {
   "cell_type": "code",
   "execution_count": null,
   "metadata": {},
   "outputs": [],
   "source": [
    "go.Figure(data = [go.Scatter(x=np.linspace(0, 4.0, num=48000*4, endpoint=False), y=envelope(4.0, on_duration=3.0))]).show(renderer='notebook')"
   ]
  },
  {
   "cell_type": "code",
   "execution_count": null,
   "metadata": {},
   "outputs": [],
   "source": [
    "go.Figure(data = [go.Scatter(x=np.linspace(0, 4.0, num=48000*4, endpoint=False), y=sinewave(4.0, 440.0) * envelope(4.0, on_duration=3.0))]).show(renderer='notebook')"
   ]
  },
  {
   "cell_type": "code",
   "execution_count": null,
   "metadata": {},
   "outputs": [],
   "source": [
    "a = 0.005\n",
    "x = np.geomspace(a / 10, a * 100, num=10000)\n",
    "y = np.where(x >= a, a / x, 1 + np.log(a / x))\n",
    "y_diff = np.where(x >= a, -a / x ** 2, -1 / x)\n",
    "# fig = go.Figure()\n",
    "from plotly.subplots import make_subplots\n",
    "fig = make_subplots(specs=[[{'secondary_y': True}]])\n",
    "fig.add_trace(go.Scatter(x=x, y=y))\n",
    "fig.add_trace(go.Scatter(x=x, y=y_diff), secondary_y=True)\n",
    "fig.update_xaxes(type='log')\n",
    "fig.show(renderer='notebook')"
   ]
  }
 ],
 "metadata": {
  "kernelspec": {
   "display_name": "venv3.13",
   "language": "python",
   "name": "python3"
  },
  "language_info": {
   "codemirror_mode": {
    "name": "ipython",
    "version": 3
   },
   "file_extension": ".py",
   "mimetype": "text/x-python",
   "name": "python",
   "nbconvert_exporter": "python",
   "pygments_lexer": "ipython3",
   "version": "3.13.0"
  }
 },
 "nbformat": 4,
 "nbformat_minor": 2
}
